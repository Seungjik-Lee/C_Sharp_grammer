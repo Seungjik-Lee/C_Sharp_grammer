{
  "nbformat": 4,
  "nbformat_minor": 0,
  "metadata": {
    "colab": {
      "name": "텍스트 전처리 토큰화_5.ipynb",
      "provenance": [],
      "collapsed_sections": [],
      "toc_visible": true,
      "authorship_tag": "ABX9TyMQPwURsCK4bIn6O/qIStyV",
      "include_colab_link": true
    },
    "kernelspec": {
      "name": "python3",
      "display_name": "Python 3"
    },
    "language_info": {
      "name": "python"
    }
  },
  "cells": [
    {
      "cell_type": "markdown",
      "metadata": {
        "id": "view-in-github",
        "colab_type": "text"
      },
      "source": [
        "<a href=\"https://colab.research.google.com/github/Seungjik-Lee/C_Sharp_grammer/blob/main/Natural_Language_Processing/%ED%85%8D%EC%8A%A4%ED%8A%B8_%EC%A0%84%EC%B2%98%EB%A6%AC_%ED%86%A0%ED%81%B0%ED%99%94_5.ipynb\" target=\"_parent\"><img src=\"https://colab.research.google.com/assets/colab-badge.svg\" alt=\"Open In Colab\"/></a>"
      ]
    },
    {
      "cell_type": "markdown",
      "metadata": {
        "id": "Ugj2m38CL1fU"
      },
      "source": [
        "# 정규 표현식(Regular Expression)\n"
      ]
    },
    {
      "cell_type": "markdown",
      "metadata": {
        "id": "UTxYZ4VuMBYM"
      },
      "source": [
        "## 1) 정규 표현식 문법"
      ]
    },
    {
      "cell_type": "markdown",
      "metadata": {
        "id": "4piur_3QMEi1"
      },
      "source": [
        "\n",
        "특수 문자 :\t설명\n",
        "* .: 한 개의 임의의 문자를 나타냅니다. (줄바꿈 문자인 \\n는 제외)<br>\n",
        "* ?: 앞의 문자가 존재할 수도 있고, 존재하지 않을 수도 있습니다. (문자가 0개 또는 1개)<br>\n",
        "*\t*: 앞의 문자가 무한개로 존재할 수도 있고, 존재하지 않을 수도 있습니다. (문자가 0개 이상)<br>\n",
        "* +: 앞의 문자가 최소 한 개 이상 존재합니다. (문자가 1개 이상)<br>\n",
        "* ^:\t뒤의 문자로 문자열이 시작됩니다.<br>\n",
        "* $:\t앞의 문자로 문자열이 끝납니다.<br>\n",
        "* {숫자}: 숫자만큼 반복합니다.<br>\n",
        "* {숫자1, 숫자2}: 숫자1 이상 숫자2 이하만큼 반복합니다. ?, *, +를 이것으로 대체할 수 있습니다.<br>\n",
        "* {숫자,}: 숫자 이상만큼 반복합니다.<br>\n",
        "* [ ]:\t대괄호 안의 문자들 중 한 개의 문자와 매치합니다. [amk]라고 한다면 a 또는 m 또는 k 중 하나라도 존재하면 매치를 의미합니다. [a-z]와 같이 범위를 지정할 수도 있습니다. [a-zA-Z]는 알파벳 전체를 의미하는 범위이며, 문자열에 알파벳이 존재하면 매치를 의미합니다.<br>\n",
        "* [^문자]:\t해당 문자를 제외한 문자를 매치합니다.<br>\n",
        "* |:\tAlB와 같이 쓰이며 A 또는 B의 의미를 가집니다.<br>\n",
        "\n",
        "정규 표현식 문법에는 역 슬래쉬(\\)를 이용하여 자주 쓰이는 문자 규칙들이 있습니다.<br>\n",
        "\n",
        "문자 규칙 :\t설명\n",
        "* \\ :\t역 슬래쉬 문자 자체를 의미합니다<br>\n",
        "* \\d :\t모든 숫자를 의미합니다. [0-9]와 의미가 동일합니다.<br>\n",
        "* \\D :\t숫자를 제외한 모든 문자를 의미합니다. [^0-9]와 의미가 동일합니다.<br>\n",
        "* \\s :\t공백을 의미합니다. [ \\t\\n\\r\\f\\v]와 의미가 동일합니다.<br>\n",
        "* \\S :\t공백을 제외한 문자를 의미합니다. [^ \\t\\n\\r\\f\\v]와 의미가 동일합니다.<br>\n",
        "* \\w :\t문자 또는 숫자를 의미합니다. [a-zA-Z0-9]와 의미가 동일합니다.<br>\n",
        "* \\W :\t문자 또는 숫자가 아닌 문자를 의미합니다. [^a-zA-Z0-9]와 의미가 동일합니다.<br>\n"
      ]
    },
    {
      "cell_type": "markdown",
      "metadata": {
        "id": "17ME3oElS-hx"
      },
      "source": [
        "## 2) 정규 표현식 실습"
      ]
    },
    {
      "cell_type": "markdown",
      "metadata": {
        "id": "1KM-qNI2PeEh"
      },
      "source": [
        "### .기호"
      ]
    },
    {
      "cell_type": "code",
      "metadata": {
        "id": "JkdEaI8ZL0gP"
      },
      "source": [
        "import re\n",
        "r = re.compile(\"a.c\")\n",
        "r.search(\"kkk\") # 아무런 결과도 출력되지 않는다."
      ],
      "execution_count": 1,
      "outputs": []
    },
    {
      "cell_type": "code",
      "metadata": {
        "colab": {
          "base_uri": "https://localhost:8080/"
        },
        "id": "2yLp3Fq1PZsL",
        "outputId": "d5a04649-b4c5-4864-e539-98b13865a06d"
      },
      "source": [
        "r.search(\"abc\")"
      ],
      "execution_count": 2,
      "outputs": [
        {
          "output_type": "execute_result",
          "data": {
            "text/plain": [
              "<re.Match object; span=(0, 3), match='abc'>"
            ]
          },
          "metadata": {
            "tags": []
          },
          "execution_count": 2
        }
      ]
    },
    {
      "cell_type": "markdown",
      "metadata": {
        "id": "uazwciNKPlAR"
      },
      "source": [
        "### ?기호"
      ]
    },
    {
      "cell_type": "code",
      "metadata": {
        "id": "elxJ728vPpsn"
      },
      "source": [
        "import re\n",
        "r=re.compile(\"ab?c\")\n",
        "r.search(\"abbc\") # 아무런 결과도 출력되지 않는다."
      ],
      "execution_count": 3,
      "outputs": []
    },
    {
      "cell_type": "code",
      "metadata": {
        "colab": {
          "base_uri": "https://localhost:8080/"
        },
        "id": "8icLMkBkPrnH",
        "outputId": "064e8eb1-3ec0-401b-9d9a-d6e621a68ed3"
      },
      "source": [
        "r.search(\"abc\")"
      ],
      "execution_count": 4,
      "outputs": [
        {
          "output_type": "execute_result",
          "data": {
            "text/plain": [
              "<re.Match object; span=(0, 3), match='abc'>"
            ]
          },
          "metadata": {
            "tags": []
          },
          "execution_count": 4
        }
      ]
    },
    {
      "cell_type": "code",
      "metadata": {
        "colab": {
          "base_uri": "https://localhost:8080/"
        },
        "id": "0mEvJ85nPupV",
        "outputId": "aec1ded1-4027-4e57-e230-5c96ebc1ba8a"
      },
      "source": [
        "r.search(\"ac\")"
      ],
      "execution_count": 5,
      "outputs": [
        {
          "output_type": "execute_result",
          "data": {
            "text/plain": [
              "<re.Match object; span=(0, 2), match='ac'>"
            ]
          },
          "metadata": {
            "tags": []
          },
          "execution_count": 5
        }
      ]
    },
    {
      "cell_type": "markdown",
      "metadata": {
        "id": "4qzcshESPzcr"
      },
      "source": [
        "### *기호"
      ]
    },
    {
      "cell_type": "code",
      "metadata": {
        "id": "nr4hsaYPP1Tp"
      },
      "source": [
        "import re\n",
        "r = re.compile(\"ab*c\")\n",
        "r.search(\"a\") # 아무런 결과도 출력되지 않는다."
      ],
      "execution_count": 6,
      "outputs": []
    },
    {
      "cell_type": "code",
      "metadata": {
        "colab": {
          "base_uri": "https://localhost:8080/"
        },
        "id": "nUDkNu_OP5uT",
        "outputId": "06897f13-ec42-455b-a40c-7909adbd86d3"
      },
      "source": [
        "r.search(\"ac\")"
      ],
      "execution_count": 7,
      "outputs": [
        {
          "output_type": "execute_result",
          "data": {
            "text/plain": [
              "<re.Match object; span=(0, 2), match='ac'>"
            ]
          },
          "metadata": {
            "tags": []
          },
          "execution_count": 7
        }
      ]
    },
    {
      "cell_type": "code",
      "metadata": {
        "colab": {
          "base_uri": "https://localhost:8080/"
        },
        "id": "wEf0Ur-lP8LP",
        "outputId": "15f833bd-de5a-4e23-a55f-31686a5c4007"
      },
      "source": [
        "r.search(\"abc\") "
      ],
      "execution_count": 8,
      "outputs": [
        {
          "output_type": "execute_result",
          "data": {
            "text/plain": [
              "<re.Match object; span=(0, 3), match='abc'>"
            ]
          },
          "metadata": {
            "tags": []
          },
          "execution_count": 8
        }
      ]
    },
    {
      "cell_type": "code",
      "metadata": {
        "colab": {
          "base_uri": "https://localhost:8080/"
        },
        "id": "08lS7rlqP-N3",
        "outputId": "6d824c1d-b6f9-4df2-8084-5e816dc871f8"
      },
      "source": [
        "r.search(\"abbbbc\") "
      ],
      "execution_count": 9,
      "outputs": [
        {
          "output_type": "execute_result",
          "data": {
            "text/plain": [
              "<re.Match object; span=(0, 6), match='abbbbc'>"
            ]
          },
          "metadata": {
            "tags": []
          },
          "execution_count": 9
        }
      ]
    },
    {
      "cell_type": "markdown",
      "metadata": {
        "id": "J0k1paeWQC-R"
      },
      "source": [
        "### +기호"
      ]
    },
    {
      "cell_type": "code",
      "metadata": {
        "id": "nSvG-XvlQFM_"
      },
      "source": [
        "import re\n",
        "r = re.compile(\"ab+c\")\n",
        "r.search(\"ac\") # 아무런 결과도 출력되지 않는다."
      ],
      "execution_count": 10,
      "outputs": []
    },
    {
      "cell_type": "code",
      "metadata": {
        "colab": {
          "base_uri": "https://localhost:8080/"
        },
        "id": "d9ezmSjBQIMi",
        "outputId": "827189eb-3bd2-4934-ca0e-93533971deb6"
      },
      "source": [
        "r.search(\"abc\") "
      ],
      "execution_count": 11,
      "outputs": [
        {
          "output_type": "execute_result",
          "data": {
            "text/plain": [
              "<re.Match object; span=(0, 3), match='abc'>"
            ]
          },
          "metadata": {
            "tags": []
          },
          "execution_count": 11
        }
      ]
    },
    {
      "cell_type": "code",
      "metadata": {
        "colab": {
          "base_uri": "https://localhost:8080/"
        },
        "id": "v9b3uw4HQLs1",
        "outputId": "2bbdc2ae-a0f6-43ca-fd8d-4ab113961259"
      },
      "source": [
        "r.search(\"abbbbc\") "
      ],
      "execution_count": 12,
      "outputs": [
        {
          "output_type": "execute_result",
          "data": {
            "text/plain": [
              "<re.Match object; span=(0, 6), match='abbbbc'>"
            ]
          },
          "metadata": {
            "tags": []
          },
          "execution_count": 12
        }
      ]
    },
    {
      "cell_type": "markdown",
      "metadata": {
        "id": "QU8qfvo7QQGq"
      },
      "source": [
        "### ^기호"
      ]
    },
    {
      "cell_type": "code",
      "metadata": {
        "id": "Q8QsOzpXQR1b"
      },
      "source": [
        "import re\n",
        "r = re.compile(\"^a\")\n",
        "r.search(\"bbc\") # 아무런 결과도 출력되지 않는다."
      ],
      "execution_count": 13,
      "outputs": []
    },
    {
      "cell_type": "code",
      "metadata": {
        "colab": {
          "base_uri": "https://localhost:8080/"
        },
        "id": "LbZNzjGWQWPJ",
        "outputId": "dc315862-2aaf-4280-b40d-e24f33ff327a"
      },
      "source": [
        "r.search(\"ab\")"
      ],
      "execution_count": 14,
      "outputs": [
        {
          "output_type": "execute_result",
          "data": {
            "text/plain": [
              "<re.Match object; span=(0, 1), match='a'>"
            ]
          },
          "metadata": {
            "tags": []
          },
          "execution_count": 14
        }
      ]
    },
    {
      "cell_type": "markdown",
      "metadata": {
        "id": "2ZvijtHFQb0j"
      },
      "source": [
        "### {숫자} 기호"
      ]
    },
    {
      "cell_type": "code",
      "metadata": {
        "id": "EXDQdTQAQfKG"
      },
      "source": [
        "import re\n",
        "r = re.compile(\"ab{2}c\")\n",
        "r.search(\"ac\") # 아무런 결과도 출력되지 않는다.\n",
        "r.search(\"abc\") # 아무런 결과도 출력되지 않는다."
      ],
      "execution_count": 16,
      "outputs": []
    },
    {
      "cell_type": "code",
      "metadata": {
        "colab": {
          "base_uri": "https://localhost:8080/"
        },
        "id": "rPa5C3GxQie2",
        "outputId": "fc8a78b4-8918-44ca-8e57-b146d7cae1cf"
      },
      "source": [
        "r.search(\"abbc\")"
      ],
      "execution_count": 17,
      "outputs": [
        {
          "output_type": "execute_result",
          "data": {
            "text/plain": [
              "<re.Match object; span=(0, 4), match='abbc'>"
            ]
          },
          "metadata": {
            "tags": []
          },
          "execution_count": 17
        }
      ]
    },
    {
      "cell_type": "code",
      "metadata": {
        "id": "eE4sw4qiQmYl"
      },
      "source": [
        "r.search(\"abbbbbc\") # 아무런 결과도 출력되지 않는다."
      ],
      "execution_count": 18,
      "outputs": []
    },
    {
      "cell_type": "markdown",
      "metadata": {
        "id": "nkyQDd0SQqze"
      },
      "source": [
        "### [ ] 기호"
      ]
    },
    {
      "cell_type": "code",
      "metadata": {
        "id": "sFSm7D6sQsbT"
      },
      "source": [
        "import re\n",
        "r = re.compile(\"[abc]\") # [abc]는 [a-c]와 같다.\n",
        "r.search(\"zzz\") # 아무런 결과도 출력되지 않는다."
      ],
      "execution_count": 19,
      "outputs": []
    },
    {
      "cell_type": "code",
      "metadata": {
        "colab": {
          "base_uri": "https://localhost:8080/"
        },
        "id": "qxnGwEEIQwSf",
        "outputId": "c54d3db7-5620-424b-af98-b621d6a1a41c"
      },
      "source": [
        "r.search(\"a\")"
      ],
      "execution_count": 20,
      "outputs": [
        {
          "output_type": "execute_result",
          "data": {
            "text/plain": [
              "<re.Match object; span=(0, 1), match='a'>"
            ]
          },
          "metadata": {
            "tags": []
          },
          "execution_count": 20
        }
      ]
    },
    {
      "cell_type": "code",
      "metadata": {
        "colab": {
          "base_uri": "https://localhost:8080/"
        },
        "id": "V5Tg1VSUQxvs",
        "outputId": "2241ec84-b116-4b9e-a0be-71cfc98f7ac8"
      },
      "source": [
        "r.search(\"aaaaaaa\")  "
      ],
      "execution_count": 21,
      "outputs": [
        {
          "output_type": "execute_result",
          "data": {
            "text/plain": [
              "<re.Match object; span=(0, 1), match='a'>"
            ]
          },
          "metadata": {
            "tags": []
          },
          "execution_count": 21
        }
      ]
    },
    {
      "cell_type": "code",
      "metadata": {
        "colab": {
          "base_uri": "https://localhost:8080/"
        },
        "id": "0Qy-S9i_Q0UW",
        "outputId": "b819e268-9376-477a-8b5e-b2706970052d"
      },
      "source": [
        "r.search(\"baac\")"
      ],
      "execution_count": 22,
      "outputs": [
        {
          "output_type": "execute_result",
          "data": {
            "text/plain": [
              "<re.Match object; span=(0, 1), match='b'>"
            ]
          },
          "metadata": {
            "tags": []
          },
          "execution_count": 22
        }
      ]
    },
    {
      "cell_type": "code",
      "metadata": {
        "id": "Y4g6L3k_RGCP"
      },
      "source": [
        "import re\n",
        "r = re.compile(\"[a-z]\")\n",
        "r.search(\"AAA\") # 아무런 결과도 출력되지 않는다."
      ],
      "execution_count": 23,
      "outputs": []
    },
    {
      "cell_type": "code",
      "metadata": {
        "colab": {
          "base_uri": "https://localhost:8080/"
        },
        "id": "6nUG40y9RJKR",
        "outputId": "ce29c94a-9237-42f2-928b-2b29f8b84fdc"
      },
      "source": [
        "r.search(\"aBC\")"
      ],
      "execution_count": 24,
      "outputs": [
        {
          "output_type": "execute_result",
          "data": {
            "text/plain": [
              "<re.Match object; span=(0, 1), match='a'>"
            ]
          },
          "metadata": {
            "tags": []
          },
          "execution_count": 24
        }
      ]
    },
    {
      "cell_type": "code",
      "metadata": {
        "id": "cn5CXnD9RLF1"
      },
      "source": [
        "r.search(\"111\") # 아무런 결과도 출력되지 않는다."
      ],
      "execution_count": 25,
      "outputs": []
    },
    {
      "cell_type": "markdown",
      "metadata": {
        "id": "qiUQpHQ6RQNK"
      },
      "source": [
        "### [^문자] 기호"
      ]
    },
    {
      "cell_type": "code",
      "metadata": {
        "id": "jcMZp5i3RSGr"
      },
      "source": [
        "import re\n",
        "r = re.compile(\"[^abc]\")\n",
        "r.search(\"a\") # 아무런 결과도 출력되지 않는다.\n",
        "r.search(\"ab\") # 아무런 결과도 출력되지 않는다.\n",
        "r.search(\"b\") # 아무런 결과도 출력되지 않는다."
      ],
      "execution_count": 26,
      "outputs": []
    },
    {
      "cell_type": "code",
      "metadata": {
        "colab": {
          "base_uri": "https://localhost:8080/"
        },
        "id": "TyuEbvDcRVpY",
        "outputId": "0d0855ca-9b48-44d3-81c9-39da02b1bf29"
      },
      "source": [
        "r.search(\"d\")"
      ],
      "execution_count": 27,
      "outputs": [
        {
          "output_type": "execute_result",
          "data": {
            "text/plain": [
              "<re.Match object; span=(0, 1), match='d'>"
            ]
          },
          "metadata": {
            "tags": []
          },
          "execution_count": 27
        }
      ]
    },
    {
      "cell_type": "code",
      "metadata": {
        "colab": {
          "base_uri": "https://localhost:8080/"
        },
        "id": "mhTyb0NYRXOd",
        "outputId": "e877036b-2a4b-4312-ed2e-18d15327feb9"
      },
      "source": [
        "r.search(\"1\") "
      ],
      "execution_count": 28,
      "outputs": [
        {
          "output_type": "execute_result",
          "data": {
            "text/plain": [
              "<re.Match object; span=(0, 1), match='1'>"
            ]
          },
          "metadata": {
            "tags": []
          },
          "execution_count": 28
        }
      ]
    },
    {
      "cell_type": "markdown",
      "metadata": {
        "id": "bvKdhJMJSv3C"
      },
      "source": [
        "## 3) 정규 표현식 모듈 함수"
      ]
    },
    {
      "cell_type": "markdown",
      "metadata": {
        "id": "nS49ITIRTNky"
      },
      "source": [
        "### re.match() 와 re.search()의 차이\n"
      ]
    },
    {
      "cell_type": "code",
      "metadata": {
        "id": "SMV7f4RDTJ4z"
      },
      "source": [
        "import re\n",
        "r = re.compile(\"ab.\")"
      ],
      "execution_count": 29,
      "outputs": []
    },
    {
      "cell_type": "code",
      "metadata": {
        "colab": {
          "base_uri": "https://localhost:8080/"
        },
        "id": "YZV16MwXTSG0",
        "outputId": "0b42bf65-1c6e-4ef2-e8a9-82dc3b04a950"
      },
      "source": [
        "r.search(\"kkkabc\")  "
      ],
      "execution_count": 30,
      "outputs": [
        {
          "output_type": "execute_result",
          "data": {
            "text/plain": [
              "<re.Match object; span=(3, 6), match='abc'>"
            ]
          },
          "metadata": {
            "tags": []
          },
          "execution_count": 30
        }
      ]
    },
    {
      "cell_type": "code",
      "metadata": {
        "id": "5TGEKm-ITUhL"
      },
      "source": [
        "r.match(\"kkkabc\")  #아무런 결과도 출력되지 않는다."
      ],
      "execution_count": 31,
      "outputs": []
    },
    {
      "cell_type": "code",
      "metadata": {
        "colab": {
          "base_uri": "https://localhost:8080/"
        },
        "id": "EFb0rx8rTWBA",
        "outputId": "4e7ac43b-8510-4102-8e5c-13789eee5554"
      },
      "source": [
        "r.match(\"abckkk\") "
      ],
      "execution_count": 32,
      "outputs": [
        {
          "output_type": "execute_result",
          "data": {
            "text/plain": [
              "<re.Match object; span=(0, 3), match='abc'>"
            ]
          },
          "metadata": {
            "tags": []
          },
          "execution_count": 32
        }
      ]
    },
    {
      "cell_type": "markdown",
      "metadata": {
        "id": "9_BYS1blTZ0M"
      },
      "source": [
        "### re.split()"
      ]
    },
    {
      "cell_type": "code",
      "metadata": {
        "colab": {
          "base_uri": "https://localhost:8080/"
        },
        "id": "NsgSQajBTbBT",
        "outputId": "b7a0670d-5c91-4ce3-8b4f-ff79b0821388"
      },
      "source": [
        "import re\n",
        "text = \"사과 딸기 수박 메론 바나나\"\n",
        "re.split(\" \",text)"
      ],
      "execution_count": 33,
      "outputs": [
        {
          "output_type": "execute_result",
          "data": {
            "text/plain": [
              "['사과', '딸기', '수박', '메론', '바나나']"
            ]
          },
          "metadata": {
            "tags": []
          },
          "execution_count": 33
        }
      ]
    },
    {
      "cell_type": "code",
      "metadata": {
        "colab": {
          "base_uri": "https://localhost:8080/"
        },
        "id": "FmvzGpXkThVZ",
        "outputId": "7292525e-27e4-4bda-fa0d-34d52ea53aae"
      },
      "source": [
        "import re\n",
        "text = \"\"\"사과\n",
        "딸기\n",
        "수박\n",
        "메론\n",
        "바나나\"\"\"\n",
        "re.split(\"\\n\",text)"
      ],
      "execution_count": 34,
      "outputs": [
        {
          "output_type": "execute_result",
          "data": {
            "text/plain": [
              "['사과', '딸기', '수박', '메론', '바나나']"
            ]
          },
          "metadata": {
            "tags": []
          },
          "execution_count": 34
        }
      ]
    },
    {
      "cell_type": "code",
      "metadata": {
        "colab": {
          "base_uri": "https://localhost:8080/"
        },
        "id": "dlZvdxtcTkbi",
        "outputId": "3bc3f5dd-a3d9-474f-9ef2-71a1a40aece8"
      },
      "source": [
        "import re\n",
        "text = \"사과+딸기+수박+메론+바나나\"\n",
        "re.split(\"\\+\",text)\n",
        "['사과', '딸기', '수박', '메론', '바나나'] "
      ],
      "execution_count": 35,
      "outputs": [
        {
          "output_type": "execute_result",
          "data": {
            "text/plain": [
              "['사과', '딸기', '수박', '메론', '바나나']"
            ]
          },
          "metadata": {
            "tags": []
          },
          "execution_count": 35
        }
      ]
    },
    {
      "cell_type": "markdown",
      "metadata": {
        "id": "8qvWVvifTo_X"
      },
      "source": [
        "### re.findall()"
      ]
    },
    {
      "cell_type": "code",
      "metadata": {
        "colab": {
          "base_uri": "https://localhost:8080/"
        },
        "id": "uOwjD3BCTp0F",
        "outputId": "31605f60-42e6-4dcf-de84-762b7a80518a"
      },
      "source": [
        "import re\n",
        "text = \"\"\"이름 : 김철수\n",
        "전화번호 : 010 - 1234 - 1234\n",
        "나이 : 30\n",
        "성별 : 남\"\"\"  \n",
        "re.findall(\"\\d+\",text)"
      ],
      "execution_count": 36,
      "outputs": [
        {
          "output_type": "execute_result",
          "data": {
            "text/plain": [
              "['010', '1234', '1234', '30']"
            ]
          },
          "metadata": {
            "tags": []
          },
          "execution_count": 36
        }
      ]
    },
    {
      "cell_type": "code",
      "metadata": {
        "colab": {
          "base_uri": "https://localhost:8080/"
        },
        "id": "LSpnYTyCTwu5",
        "outputId": "5e6e9232-010f-4c94-862a-bf888c37fb44"
      },
      "source": [
        "re.findall(\"\\d+\", \"문자열입니다.\")"
      ],
      "execution_count": 37,
      "outputs": [
        {
          "output_type": "execute_result",
          "data": {
            "text/plain": [
              "[]"
            ]
          },
          "metadata": {
            "tags": []
          },
          "execution_count": 37
        }
      ]
    },
    {
      "cell_type": "markdown",
      "metadata": {
        "id": "XYRUB4pVT0O5"
      },
      "source": [
        "### re.sub()"
      ]
    },
    {
      "cell_type": "code",
      "metadata": {
        "colab": {
          "base_uri": "https://localhost:8080/",
          "height": 52
        },
        "id": "u5oKrJmmT2af",
        "outputId": "b4bc5432-e8f2-47e4-cfd8-cb637e5f0383"
      },
      "source": [
        "import re\n",
        "text = \"Regular expression : A regular expression, regex or regexp[1] (sometimes called a rational expression)[2][3] is, in theoretical computer science and formal language theory, a sequence of characters that define a search pattern.\"\n",
        "re.sub('[^a-zA-Z]',' ',text)"
      ],
      "execution_count": 38,
      "outputs": [
        {
          "output_type": "execute_result",
          "data": {
            "application/vnd.google.colaboratory.intrinsic+json": {
              "type": "string"
            },
            "text/plain": [
              "'Regular expression   A regular expression  regex or regexp     sometimes called a rational expression        is  in theoretical computer science and formal language theory  a sequence of characters that define a search pattern '"
            ]
          },
          "metadata": {
            "tags": []
          },
          "execution_count": 38
        }
      ]
    },
    {
      "cell_type": "markdown",
      "metadata": {
        "id": "-MKtDO79T8th"
      },
      "source": [
        "## 4) 정규 표현식 텍스트 전처리"
      ]
    },
    {
      "cell_type": "code",
      "metadata": {
        "colab": {
          "base_uri": "https://localhost:8080/"
        },
        "id": "vjwpw5xaUHi4",
        "outputId": "e39ca36e-8bfd-412b-d078-5e97dbf73aec"
      },
      "source": [
        "import re  \n",
        "\n",
        "text = \"\"\"100 John    PROF\n",
        "101 James   STUD\n",
        "102 Mac   STUD\"\"\"  \n",
        "\n",
        "re.split('\\s+', text) "
      ],
      "execution_count": 39,
      "outputs": [
        {
          "output_type": "execute_result",
          "data": {
            "text/plain": [
              "['100', 'John', 'PROF', '101', 'James', 'STUD', '102', 'Mac', 'STUD']"
            ]
          },
          "metadata": {
            "tags": []
          },
          "execution_count": 39
        }
      ]
    },
    {
      "cell_type": "code",
      "metadata": {
        "colab": {
          "base_uri": "https://localhost:8080/"
        },
        "id": "wlYGr54tULvp",
        "outputId": "209000fa-6144-4f71-d360-0a8405cdddac"
      },
      "source": [
        "re.findall('\\d+',text)"
      ],
      "execution_count": 40,
      "outputs": [
        {
          "output_type": "execute_result",
          "data": {
            "text/plain": [
              "['100', '101', '102']"
            ]
          },
          "metadata": {
            "tags": []
          },
          "execution_count": 40
        }
      ]
    },
    {
      "cell_type": "code",
      "metadata": {
        "colab": {
          "base_uri": "https://localhost:8080/"
        },
        "id": "c7lCu-LKUOBU",
        "outputId": "96a64105-d3c7-45db-f75b-a3b74a2ee178"
      },
      "source": [
        "re.findall('[A-Z]',text)"
      ],
      "execution_count": 41,
      "outputs": [
        {
          "output_type": "execute_result",
          "data": {
            "text/plain": [
              "['J', 'P', 'R', 'O', 'F', 'J', 'S', 'T', 'U', 'D', 'M', 'S', 'T', 'U', 'D']"
            ]
          },
          "metadata": {
            "tags": []
          },
          "execution_count": 41
        }
      ]
    },
    {
      "cell_type": "code",
      "metadata": {
        "colab": {
          "base_uri": "https://localhost:8080/"
        },
        "id": "azVhGHXOURO-",
        "outputId": "46117bd8-0832-4ac8-ad6d-c421ebcdf2b9"
      },
      "source": [
        "re.findall('[A-Z]{4}',text)"
      ],
      "execution_count": 42,
      "outputs": [
        {
          "output_type": "execute_result",
          "data": {
            "text/plain": [
              "['PROF', 'STUD', 'STUD']"
            ]
          },
          "metadata": {
            "tags": []
          },
          "execution_count": 42
        }
      ]
    },
    {
      "cell_type": "code",
      "metadata": {
        "colab": {
          "base_uri": "https://localhost:8080/"
        },
        "id": "M9bMUlbfUTYg",
        "outputId": "dfb4da97-8cb5-4e22-b1b7-e6fe15435b42"
      },
      "source": [
        "re.findall('[A-Z][a-z]+',text)"
      ],
      "execution_count": 43,
      "outputs": [
        {
          "output_type": "execute_result",
          "data": {
            "text/plain": [
              "['John', 'James', 'Mac']"
            ]
          },
          "metadata": {
            "tags": []
          },
          "execution_count": 43
        }
      ]
    },
    {
      "cell_type": "markdown",
      "metadata": {
        "id": "l85Wzec3UV_g"
      },
      "source": [
        "## 5) 정규 표현식을 이용한 토큰화"
      ]
    },
    {
      "cell_type": "code",
      "metadata": {
        "colab": {
          "base_uri": "https://localhost:8080/"
        },
        "id": "vc_42UVMUYkk",
        "outputId": "125ebc1b-1cf4-4efb-e7c4-5ef1b6229950"
      },
      "source": [
        "import nltk\n",
        "from nltk.tokenize import RegexpTokenizer\n",
        "\n",
        "tokenizer = RegexpTokenizer(\"[\\w]+\")\n",
        "print(tokenizer.tokenize(\"Don't be fooled by the dark sounding name, Mr. Jone's Orphanage is as cheery as cheery goes for a pastry shop\"))"
      ],
      "execution_count": 44,
      "outputs": [
        {
          "output_type": "stream",
          "text": [
            "['Don', 't', 'be', 'fooled', 'by', 'the', 'dark', 'sounding', 'name', 'Mr', 'Jone', 's', 'Orphanage', 'is', 'as', 'cheery', 'as', 'cheery', 'goes', 'for', 'a', 'pastry', 'shop']\n"
          ],
          "name": "stdout"
        }
      ]
    },
    {
      "cell_type": "code",
      "metadata": {
        "colab": {
          "base_uri": "https://localhost:8080/"
        },
        "id": "M9PpqzSMUgPb",
        "outputId": "8d252757-aaae-4a18-8305-cc1e18112105"
      },
      "source": [
        "import nltk\n",
        "from nltk.tokenize import RegexpTokenizer\n",
        "\n",
        "tokenizer = RegexpTokenizer(\"[\\s]+\", gaps=True)\n",
        "print(tokenizer.tokenize(\"Don't be fooled by the dark sounding name, Mr. Jone's Orphanage is as cheery as cheery goes for a pastry shop\"))"
      ],
      "execution_count": 45,
      "outputs": [
        {
          "output_type": "stream",
          "text": [
            "[\"Don't\", 'be', 'fooled', 'by', 'the', 'dark', 'sounding', 'name,', 'Mr.', \"Jone's\", 'Orphanage', 'is', 'as', 'cheery', 'as', 'cheery', 'goes', 'for', 'a', 'pastry', 'shop']\n"
          ],
          "name": "stdout"
        }
      ]
    }
  ]
}